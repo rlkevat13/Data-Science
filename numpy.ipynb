{
 "cells": [
  {
   "cell_type": "code",
   "execution_count": 1,
   "id": "ab446591",
   "metadata": {},
   "outputs": [],
   "source": [
    "import numpy as np"
   ]
  },
  {
   "cell_type": "markdown",
   "id": "f340fc82",
   "metadata": {},
   "source": [
    "# NumPy Ndarray"
   ]
  },
  {
   "cell_type": "raw",
   "id": "62b47d77",
   "metadata": {},
   "source": [
    "Ndarray is the n-dimentional array defined in the numpy which stores the collection of the similar type of elements.\n"
   ]
  },
  {
   "cell_type": "raw",
   "id": "30cd7e14",
   "metadata": {},
   "source": [
    "The ndarray object can be accessed by using the 0 based indexing.each elements of the array object contains the same size in the memory."
   ]
  },
  {
   "cell_type": "markdown",
   "id": "647a7bd5",
   "metadata": {},
   "source": [
    "Creating a ndarray object"
   ]
  },
  {
   "cell_type": "raw",
   "id": "e356ea60",
   "metadata": {},
   "source": [
    "Syntex:\n",
    "numpy.array(object, dtype=None, copy=True, order=None, subox=False, ndmin=0)\n",
    "\n",
    "where:\n",
    "object = It represents the collection object. It can be a list, tuple, dictionary, set, etc.\n",
    "dtype = We can change the data type of the array elements by changing this option to the specified type. The default is none.\n",
    "copy = It is optional. By default, it is true which means the object is copied.\n",
    "order = There can be 3 possible values assigned to this option. It can be C (column order), R (row order), or A (any)\n",
    "subox = The returned array will be base class array by default. We can change this to make the subclasses passes through by setting this option to true.\n",
    "ndmin = It represents the minimum dimensions of the resultant array."
   ]
  },
  {
   "cell_type": "code",
   "execution_count": 2,
   "id": "c8f2e0de",
   "metadata": {},
   "outputs": [
    {
     "name": "stdout",
     "output_type": "stream",
     "text": [
      "<built-in function array>\n",
      "<class 'builtin_function_or_method'>\n"
     ]
    }
   ],
   "source": [
    "a = np.array\n",
    "print(a)\n",
    "print(type(a))"
   ]
  },
  {
   "cell_type": "code",
   "execution_count": 3,
   "id": "c3d27f20",
   "metadata": {},
   "outputs": [
    {
     "name": "stdout",
     "output_type": "stream",
     "text": [
      "[1 2 3]\n",
      "<class 'numpy.ndarray'>\n",
      "1\n",
      "8 bytes\n",
      "int64\n",
      "3\n",
      "(3,)\n"
     ]
    }
   ],
   "source": [
    "b = np.array([1, 2, 3])\n",
    "print(b)\n",
    "print(type(b))\n",
    "print(b.ndim)\n",
    "print(b.itemsize, \"bytes\")\n",
    "print(b.dtype)\n",
    "print(b.size)\n",
    "print(b.shape)"
   ]
  },
  {
   "cell_type": "code",
   "execution_count": 4,
   "id": "81a7c236",
   "metadata": {},
   "outputs": [
    {
     "name": "stdout",
     "output_type": "stream",
     "text": [
      "[[1 2 3]\n",
      " [4 5 6]]\n",
      "2\n",
      "8 bytes\n",
      "int64\n",
      "6\n",
      "(2, 3)\n"
     ]
    }
   ],
   "source": [
    "c = np.array([[1, 2, 3], [4, 5, 6]])\n",
    "print(c)\n",
    "print(c.ndim)\n",
    "print(c.itemsize, \"bytes\")\n",
    "print(c.dtype)\n",
    "print(c.size)\n",
    "print(c.shape)"
   ]
  },
  {
   "cell_type": "code",
   "execution_count": 5,
   "id": "5bca6431",
   "metadata": {},
   "outputs": [
    {
     "name": "stdout",
     "output_type": "stream",
     "text": [
      "[1.+0.j 3.+0.j 5.+0.j 7.+0.j]\n",
      "1\n",
      "16 bytes\n",
      "complex128\n",
      "4\n",
      "(4,)\n"
     ]
    }
   ],
   "source": [
    "d = np.array([1, 3, 5, 7], dtype=complex)\n",
    "print(d)\n",
    "print(d.ndim)\n",
    "print(d.itemsize, \"bytes\")\n",
    "print(d.dtype)\n",
    "print(d.size)\n",
    "print(d.shape)"
   ]
  },
  {
   "cell_type": "code",
   "execution_count": 6,
   "id": "3fbea66a",
   "metadata": {},
   "outputs": [
    {
     "name": "stdout",
     "output_type": "stream",
     "text": [
      "[1. 3. 5. 7.]\n",
      "1\n",
      "8 bytes\n",
      "float64\n",
      "4\n",
      "(4,)\n"
     ]
    }
   ],
   "source": [
    "e = np.array([1, 3, 5, 7], dtype=float)\n",
    "print(e)\n",
    "print(e.ndim)\n",
    "print(e.itemsize, \"bytes\")\n",
    "print(e.dtype)\n",
    "print(e.size)\n",
    "print(e.shape)"
   ]
  },
  {
   "cell_type": "code",
   "execution_count": 7,
   "id": "bba90b72",
   "metadata": {},
   "outputs": [
    {
     "name": "stdout",
     "output_type": "stream",
     "text": [
      "['1' '3' '5' '7']\n",
      "1\n",
      "4 bytes\n",
      "<U1\n",
      "4\n",
      "(4,)\n"
     ]
    }
   ],
   "source": [
    "f = np.array([1, 3, 5, 7], dtype=str)\n",
    "print(f)\n",
    "print(f.ndim)\n",
    "print(f.itemsize, \"bytes\")\n",
    "print(f.dtype)\n",
    "print(f.size)\n",
    "print(f.shape)"
   ]
  },
  {
   "cell_type": "code",
   "execution_count": 8,
   "id": "948b9ddd",
   "metadata": {},
   "outputs": [
    {
     "name": "stdout",
     "output_type": "stream",
     "text": [
      "[[ 1  2  3  4]\n",
      " [ 4  5  6  7]\n",
      " [ 9 10 11 23]]\n",
      "2\n",
      "8 bytes\n",
      "int64\n",
      "12\n",
      "(3, 4)\n"
     ]
    }
   ],
   "source": [
    "g = np.array([[1, 2, 3, 4], [4, 5, 6, 7], [9, 10, 11, 23]])\n",
    "print(g)\n",
    "print(g.ndim)\n",
    "print(g.itemsize, \"bytes\")\n",
    "print(g.dtype)\n",
    "print(g.size)\n",
    "print(g.shape)"
   ]
  },
  {
   "cell_type": "raw",
   "id": "43f0ac1b",
   "metadata": {},
   "source": [
    "Reshaping the array objects"
   ]
  },
  {
   "cell_type": "markdown",
   "id": "22594363",
   "metadata": {},
   "source": [
    "By the shape of the array, we mean the number of rows and columns of a multi-dimensional array. However, the numpy module provides us the way to reshape the array by changing the number of rows and columns of the multi-dimensional array."
   ]
  },
  {
   "cell_type": "markdown",
   "id": "6ec20cd3",
   "metadata": {},
   "source": [
    "The reshape() function associated with the ndarray object is used to reshape the array. It accepts the two parameters indicating the row and columns of the new shape of the array."
   ]
  },
  {
   "cell_type": "code",
   "execution_count": 9,
   "id": "9cb67958",
   "metadata": {},
   "outputs": [
    {
     "name": "stdout",
     "output_type": "stream",
     "text": [
      "[[1 2]\n",
      " [3 4]\n",
      " [5 6]]\n",
      "2\n",
      "8 bytes\n",
      "int64\n",
      "6\n",
      "(3, 2)\n"
     ]
    }
   ],
   "source": [
    "h = np.array([[1,2],[3,4],[5,6]])\n",
    "print(h)\n",
    "print(h.ndim)\n",
    "print(h.itemsize, \"bytes\")\n",
    "print(h.dtype)\n",
    "print(h.size)\n",
    "print(h.shape)"
   ]
  },
  {
   "cell_type": "code",
   "execution_count": 10,
   "id": "8b5d5a86",
   "metadata": {},
   "outputs": [
    {
     "name": "stdout",
     "output_type": "stream",
     "text": [
      "[[1 2 3]\n",
      " [4 5 6]]\n"
     ]
    }
   ],
   "source": [
    "print(h.reshape(2, 3))"
   ]
  },
  {
   "cell_type": "code",
   "execution_count": 11,
   "id": "85c35933",
   "metadata": {},
   "outputs": [
    {
     "name": "stdout",
     "output_type": "stream",
     "text": [
      "[[1 2 3 4 5 6]]\n",
      "[1 2 3 4 5 6]\n"
     ]
    }
   ],
   "source": [
    "print(h.reshape(1, 6))\n",
    "print(h.reshape(6))"
   ]
  },
  {
   "cell_type": "raw",
   "id": "f767a628",
   "metadata": {},
   "source": [
    "Slicing in the Array"
   ]
  },
  {
   "cell_type": "markdown",
   "id": "339ac0a2",
   "metadata": {},
   "source": [
    "Slicing in the NumPy array is the way to extract a range of elements from an array. Slicing in the array is performed in the same way as it is performed in the python list."
   ]
  },
  {
   "cell_type": "code",
   "execution_count": 12,
   "id": "e8e23bf6",
   "metadata": {},
   "outputs": [
    {
     "name": "stdout",
     "output_type": "stream",
     "text": [
      "[3 4]\n",
      "[[1 2]\n",
      " [3 4]\n",
      " [5 6]]\n"
     ]
    }
   ],
   "source": [
    "print(h[1])\n",
    "print(h[0:])"
   ]
  },
  {
   "cell_type": "code",
   "execution_count": 13,
   "id": "fef6f9f7",
   "metadata": {},
   "outputs": [
    {
     "name": "stdout",
     "output_type": "stream",
     "text": [
      "[[3 4]\n",
      " [5 6]]\n"
     ]
    }
   ],
   "source": [
    "print(h[1:])"
   ]
  },
  {
   "cell_type": "code",
   "execution_count": 14,
   "id": "bd049c76",
   "metadata": {},
   "outputs": [
    {
     "name": "stdout",
     "output_type": "stream",
     "text": [
      "[[3 4]]\n"
     ]
    }
   ],
   "source": [
    "print(h[1:2])"
   ]
  },
  {
   "cell_type": "code",
   "execution_count": 15,
   "id": "5f71ba9f",
   "metadata": {},
   "outputs": [
    {
     "name": "stdout",
     "output_type": "stream",
     "text": [
      "[[5 6]\n",
      " [3 4]\n",
      " [1 2]]\n"
     ]
    }
   ],
   "source": [
    "print(h[::-1])"
   ]
  },
  {
   "cell_type": "code",
   "execution_count": 16,
   "id": "53caa423",
   "metadata": {},
   "outputs": [
    {
     "name": "stdout",
     "output_type": "stream",
     "text": [
      "[2 1]\n"
     ]
    }
   ],
   "source": [
    "print(h[0][::-1])"
   ]
  },
  {
   "cell_type": "code",
   "execution_count": 17,
   "id": "6b75a4f1",
   "metadata": {},
   "outputs": [
    {
     "name": "stdout",
     "output_type": "stream",
     "text": [
      "[[1 2]\n",
      " [3 4]\n",
      " [5 6]]\n"
     ]
    }
   ],
   "source": [
    "print(h[::-1][::-1])"
   ]
  },
  {
   "cell_type": "code",
   "execution_count": 18,
   "id": "0fe4b5ab",
   "metadata": {},
   "outputs": [
    {
     "name": "stdout",
     "output_type": "stream",
     "text": [
      "2\n",
      "2\n",
      "5\n",
      "5\n"
     ]
    }
   ],
   "source": [
    "print(h[0, 1])\n",
    "print(h[0][1])\n",
    "print(h[2, 0])\n",
    "print(h[2][0])"
   ]
  },
  {
   "cell_type": "raw",
   "id": "0dc0a757",
   "metadata": {},
   "source": [
    "Linspace"
   ]
  },
  {
   "cell_type": "markdown",
   "id": "3a8efe05",
   "metadata": {},
   "source": [
    "The linspace() function returns the evenly spaced values over the given interval. The following example returns the 10 evenly separated values over the given interval 5-15"
   ]
  },
  {
   "cell_type": "code",
   "execution_count": 19,
   "id": "5c83bdf0",
   "metadata": {},
   "outputs": [
    {
     "name": "stdout",
     "output_type": "stream",
     "text": [
      "[ 5.          5.10204082  5.20408163  5.30612245  5.40816327  5.51020408\n",
      "  5.6122449   5.71428571  5.81632653  5.91836735  6.02040816  6.12244898\n",
      "  6.2244898   6.32653061  6.42857143  6.53061224  6.63265306  6.73469388\n",
      "  6.83673469  6.93877551  7.04081633  7.14285714  7.24489796  7.34693878\n",
      "  7.44897959  7.55102041  7.65306122  7.75510204  7.85714286  7.95918367\n",
      "  8.06122449  8.16326531  8.26530612  8.36734694  8.46938776  8.57142857\n",
      "  8.67346939  8.7755102   8.87755102  8.97959184  9.08163265  9.18367347\n",
      "  9.28571429  9.3877551   9.48979592  9.59183673  9.69387755  9.79591837\n",
      "  9.89795918 10.        ]\n"
     ]
    }
   ],
   "source": [
    "print(np.linspace(5, 10))"
   ]
  },
  {
   "cell_type": "code",
   "execution_count": 20,
   "id": "ee3277b1",
   "metadata": {},
   "outputs": [
    {
     "name": "stdout",
     "output_type": "stream",
     "text": [
      "[ 5.          5.20408163  5.40816327  5.6122449   5.81632653  6.02040816\n",
      "  6.2244898   6.42857143  6.63265306  6.83673469  7.04081633  7.24489796\n",
      "  7.44897959  7.65306122  7.85714286  8.06122449  8.26530612  8.46938776\n",
      "  8.67346939  8.87755102  9.08163265  9.28571429  9.48979592  9.69387755\n",
      "  9.89795918 10.10204082 10.30612245 10.51020408 10.71428571 10.91836735\n",
      " 11.12244898 11.32653061 11.53061224 11.73469388 11.93877551 12.14285714\n",
      " 12.34693878 12.55102041 12.75510204 12.95918367 13.16326531 13.36734694\n",
      " 13.57142857 13.7755102  13.97959184 14.18367347 14.3877551  14.59183673\n",
      " 14.79591837 15.        ]\n"
     ]
    }
   ],
   "source": [
    "print(np.linspace(5, 15))"
   ]
  },
  {
   "cell_type": "code",
   "execution_count": 21,
   "id": "0d06fe51",
   "metadata": {},
   "outputs": [
    {
     "name": "stdout",
     "output_type": "stream",
     "text": [
      "[ 5.          5.30612245  5.6122449   5.91836735  6.2244898   6.53061224\n",
      "  6.83673469  7.14285714  7.44897959  7.75510204  8.06122449  8.36734694\n",
      "  8.67346939  8.97959184  9.28571429  9.59183673  9.89795918 10.20408163\n",
      " 10.51020408 10.81632653 11.12244898 11.42857143 11.73469388 12.04081633\n",
      " 12.34693878 12.65306122 12.95918367 13.26530612 13.57142857 13.87755102\n",
      " 14.18367347 14.48979592 14.79591837 15.10204082 15.40816327 15.71428571\n",
      " 16.02040816 16.32653061 16.63265306 16.93877551 17.24489796 17.55102041\n",
      " 17.85714286 18.16326531 18.46938776 18.7755102  19.08163265 19.3877551\n",
      " 19.69387755 20.        ]\n"
     ]
    }
   ],
   "source": [
    "print(np.linspace(5, 20))"
   ]
  },
  {
   "cell_type": "code",
   "execution_count": 22,
   "id": "2bcf41b5",
   "metadata": {},
   "outputs": [
    {
     "name": "stdout",
     "output_type": "stream",
     "text": [
      "[ 5.          5.51020408  6.02040816  6.53061224  7.04081633  7.55102041\n",
      "  8.06122449  8.57142857  9.08163265  9.59183673 10.10204082 10.6122449\n",
      " 11.12244898 11.63265306 12.14285714 12.65306122 13.16326531 13.67346939\n",
      " 14.18367347 14.69387755 15.20408163 15.71428571 16.2244898  16.73469388\n",
      " 17.24489796 17.75510204 18.26530612 18.7755102  19.28571429 19.79591837\n",
      " 20.30612245 20.81632653 21.32653061 21.83673469 22.34693878 22.85714286\n",
      " 23.36734694 23.87755102 24.3877551  24.89795918 25.40816327 25.91836735\n",
      " 26.42857143 26.93877551 27.44897959 27.95918367 28.46938776 28.97959184\n",
      " 29.48979592 30.        ]\n"
     ]
    }
   ],
   "source": [
    "print(np.linspace(5, 30))"
   ]
  },
  {
   "cell_type": "code",
   "execution_count": 23,
   "id": "fd3b6dc5",
   "metadata": {},
   "outputs": [
    {
     "name": "stdout",
     "output_type": "stream",
     "text": [
      "[ 5.          5.71428571  6.42857143  7.14285714  7.85714286  8.57142857\n",
      "  9.28571429 10.         10.71428571 11.42857143 12.14285714 12.85714286\n",
      " 13.57142857 14.28571429 15.         15.71428571 16.42857143 17.14285714\n",
      " 17.85714286 18.57142857 19.28571429 20.         20.71428571 21.42857143\n",
      " 22.14285714 22.85714286 23.57142857 24.28571429 25.         25.71428571\n",
      " 26.42857143 27.14285714 27.85714286 28.57142857 29.28571429 30.\n",
      " 30.71428571 31.42857143 32.14285714 32.85714286 33.57142857 34.28571429\n",
      " 35.         35.71428571 36.42857143 37.14285714 37.85714286 38.57142857\n",
      " 39.28571429 40.        ]\n"
     ]
    }
   ],
   "source": [
    "print(np.linspace(5, 40))"
   ]
  },
  {
   "cell_type": "code",
   "execution_count": 24,
   "id": "9a463d8e",
   "metadata": {},
   "outputs": [
    {
     "name": "stdout",
     "output_type": "stream",
     "text": [
      "[ 5.          6.11111111  7.22222222  8.33333333  9.44444444 10.55555556\n",
      " 11.66666667 12.77777778 13.88888889 15.        ]\n"
     ]
    }
   ],
   "source": [
    "print(np.linspace(5, 15, 10))"
   ]
  },
  {
   "cell_type": "code",
   "execution_count": 25,
   "id": "ee925e7d",
   "metadata": {},
   "outputs": [
    {
     "name": "stdout",
     "output_type": "stream",
     "text": [
      "[ 1.  2.  3.  4.  5.  6.  7.  8.  9. 10.]\n"
     ]
    }
   ],
   "source": [
    "print(np.linspace(1, 10, 10))"
   ]
  },
  {
   "cell_type": "code",
   "execution_count": 26,
   "id": "33fe62b0",
   "metadata": {},
   "outputs": [
    {
     "name": "stdout",
     "output_type": "stream",
     "text": [
      "[ 2.          2.88888889  3.77777778  4.66666667  5.55555556  6.44444444\n",
      "  7.33333333  8.22222222  9.11111111 10.        ]\n"
     ]
    }
   ],
   "source": [
    "print(np.linspace(2, 10, 10))"
   ]
  },
  {
   "cell_type": "raw",
   "id": "067b0667",
   "metadata": {},
   "source": [
    "Finding the maximum, minimum, and sum of the array elements"
   ]
  },
  {
   "cell_type": "markdown",
   "id": "6d306b7a",
   "metadata": {},
   "source": [
    "The NumPy provides the max(), min(), and sum() functions which are used to find the maximum, minimum, and sum of the array elements respectively."
   ]
  },
  {
   "cell_type": "code",
   "execution_count": 27,
   "id": "8d489438",
   "metadata": {
    "scrolled": true
   },
   "outputs": [
    {
     "name": "stdout",
     "output_type": "stream",
     "text": [
      "[ 1  2  3 10 15  4]\n",
      "1\n",
      "15\n",
      "35\n"
     ]
    }
   ],
   "source": [
    "i = np.array([1,2,3,10,15,4])  \n",
    "print(i)\n",
    "print(i.min())\n",
    "print(i.max())\n",
    "print(i.sum())"
   ]
  },
  {
   "cell_type": "raw",
   "id": "33b341c0",
   "metadata": {},
   "source": [
    "NumPy Array Axis"
   ]
  },
  {
   "cell_type": "markdown",
   "id": "f36dee60",
   "metadata": {},
   "source": [
    "A NumPy multi-dimensional array is represented by the axis where axis-0 represents the columns and axis-1 represents the rows. We can mention the axis to perform row-level or column-level calculations like the addition of row or column elements."
   ]
  },
  {
   "cell_type": "code",
   "execution_count": 28,
   "id": "7de7531c",
   "metadata": {},
   "outputs": [
    {
     "name": "stdout",
     "output_type": "stream",
     "text": [
      "[[ 1  2 30]\n",
      " [10 15  4]]\n",
      "[1 2 4]\n",
      "[1 4]\n"
     ]
    }
   ],
   "source": [
    "j = np.array([[1,2,30],[10,15,4]]) \n",
    "print(j)\n",
    "print(j.min(axis=0))\n",
    "print(j.min(axis=1))"
   ]
  },
  {
   "cell_type": "code",
   "execution_count": 29,
   "id": "77070aaf",
   "metadata": {},
   "outputs": [
    {
     "name": "stdout",
     "output_type": "stream",
     "text": [
      "[10 15 30]\n",
      "[30 15]\n"
     ]
    }
   ],
   "source": [
    "print(j.max(axis=0))\n",
    "print(j.max(axis=1))"
   ]
  },
  {
   "cell_type": "code",
   "execution_count": 30,
   "id": "cce29476",
   "metadata": {},
   "outputs": [
    {
     "name": "stdout",
     "output_type": "stream",
     "text": [
      "[11 17 34]\n",
      "[33 29]\n"
     ]
    }
   ],
   "source": [
    "print(j.sum(axis=0))\n",
    "print(j.sum(axis=1))"
   ]
  },
  {
   "cell_type": "raw",
   "id": "e8ac5c4a",
   "metadata": {},
   "source": [
    "Finding square root and standard deviation"
   ]
  },
  {
   "cell_type": "markdown",
   "id": "98b1a542",
   "metadata": {},
   "source": [
    "The sqrt() and std() functions associated with the numpy array are used to find the square root and standard deviation of the array elements respectively."
   ]
  },
  {
   "cell_type": "markdown",
   "id": "81710a32",
   "metadata": {},
   "source": [
    "Standard deviation means how much each element of the array varies from the mean value of the numpy array."
   ]
  },
  {
   "cell_type": "code",
   "execution_count": 31,
   "id": "eee7f59b",
   "metadata": {},
   "outputs": [
    {
     "name": "stdout",
     "output_type": "stream",
     "text": [
      "[[ 1  2 30]\n",
      " [10 15  4]]\n",
      "[[1.         1.41421356 5.47722558]\n",
      " [3.16227766 3.87298335 2.        ]]\n",
      "10.044346115546242\n"
     ]
    }
   ],
   "source": [
    "k = np.array([[1,2,30],[10,15,4]]) \n",
    "print(k)\n",
    "print(np.sqrt(k))\n",
    "print(np.std(k))"
   ]
  },
  {
   "cell_type": "raw",
   "id": "c95baafc",
   "metadata": {},
   "source": [
    "Arithmetic operations on the array"
   ]
  },
  {
   "cell_type": "markdown",
   "id": "974abbcb",
   "metadata": {},
   "source": [
    "The numpy module allows us to perform the arithmetic operations on multi-dimensional arrays directly."
   ]
  },
  {
   "cell_type": "code",
   "execution_count": 32,
   "id": "f7fc04b9",
   "metadata": {},
   "outputs": [
    {
     "name": "stdout",
     "output_type": "stream",
     "text": [
      "[[ 1  2 30]\n",
      " [10 15  4]]\n",
      "[[ 1  2  3]\n",
      " [12 19 29]]\n"
     ]
    }
   ],
   "source": [
    "l = np.array([[1,2,30],[10,15,4]])\n",
    "m = np.array([[1,2,3],[12, 19, 29]])\n",
    "print(l)\n",
    "print(m)"
   ]
  },
  {
   "cell_type": "code",
   "execution_count": 33,
   "id": "b4a0fb88",
   "metadata": {},
   "outputs": [
    {
     "name": "stdout",
     "output_type": "stream",
     "text": [
      "[[ 2  4 33]\n",
      " [22 34 33]]\n"
     ]
    }
   ],
   "source": [
    "print(l+m)"
   ]
  },
  {
   "cell_type": "code",
   "execution_count": 34,
   "id": "0b86dec8",
   "metadata": {},
   "outputs": [
    {
     "name": "stdout",
     "output_type": "stream",
     "text": [
      "[[  0   0  27]\n",
      " [ -2  -4 -25]]\n"
     ]
    }
   ],
   "source": [
    "print(l-m)"
   ]
  },
  {
   "cell_type": "code",
   "execution_count": 35,
   "id": "d8e60b9b",
   "metadata": {},
   "outputs": [
    {
     "name": "stdout",
     "output_type": "stream",
     "text": [
      "[[  1   4  90]\n",
      " [120 285 116]]\n"
     ]
    }
   ],
   "source": [
    "print(l*m)"
   ]
  },
  {
   "cell_type": "code",
   "execution_count": 36,
   "id": "47d9c0ae",
   "metadata": {},
   "outputs": [
    {
     "name": "stdout",
     "output_type": "stream",
     "text": [
      "[[ 1.          1.         10.        ]\n",
      " [ 0.83333333  0.78947368  0.13793103]]\n"
     ]
    }
   ],
   "source": [
    "print(l/m)"
   ]
  },
  {
   "cell_type": "code",
   "execution_count": 37,
   "id": "e5d46b5f",
   "metadata": {},
   "outputs": [
    {
     "name": "stdout",
     "output_type": "stream",
     "text": [
      "[[ 1  1 10]\n",
      " [ 0  0  0]]\n"
     ]
    }
   ],
   "source": [
    "print(l//m)"
   ]
  },
  {
   "cell_type": "code",
   "execution_count": 38,
   "id": "366b6da2",
   "metadata": {},
   "outputs": [
    {
     "name": "stdout",
     "output_type": "stream",
     "text": [
      "[[ 0  0  0]\n",
      " [10 15  4]]\n"
     ]
    }
   ],
   "source": [
    "print(l%m)"
   ]
  },
  {
   "cell_type": "raw",
   "id": "c6281f2a",
   "metadata": {},
   "source": [
    "Array Concatenation"
   ]
  },
  {
   "cell_type": "markdown",
   "id": "209676e9",
   "metadata": {},
   "source": [
    "The numpy provides us with the vertical stacking and horizontal stacking which allows us to concatenate two multi-dimensional arrays vertically or horizontally."
   ]
  },
  {
   "cell_type": "code",
   "execution_count": 39,
   "id": "9a621f34",
   "metadata": {},
   "outputs": [
    {
     "name": "stdout",
     "output_type": "stream",
     "text": [
      "[[ 1  2 30]\n",
      " [10 15  4]]\n",
      "[[ 1  2  3]\n",
      " [12 19 29]]\n"
     ]
    }
   ],
   "source": [
    "n = np.array([[1,2,30],[10,15,4]])\n",
    "o = np.array([[1,2,3],[12, 19, 29]])\n",
    "print(n)\n",
    "print(o)"
   ]
  },
  {
   "cell_type": "code",
   "execution_count": 40,
   "id": "8e17ec3e",
   "metadata": {},
   "outputs": [
    {
     "name": "stdout",
     "output_type": "stream",
     "text": [
      "[[ 1  2 30]\n",
      " [10 15  4]\n",
      " [ 1  2  3]\n",
      " [12 19 29]]\n",
      "2\n"
     ]
    }
   ],
   "source": [
    "print(np.vstack((n,o)))\n",
    "print(np.vstack((n,o)).ndim)"
   ]
  },
  {
   "cell_type": "code",
   "execution_count": 41,
   "id": "c8b85f6a",
   "metadata": {},
   "outputs": [
    {
     "name": "stdout",
     "output_type": "stream",
     "text": [
      "[[ 1  2 30  1  2  3]\n",
      " [10 15  4 12 19 29]]\n",
      "2\n"
     ]
    }
   ],
   "source": [
    "print(np.hstack((n, o)))\n",
    "print(np.hstack((n, o)).ndim)"
   ]
  },
  {
   "cell_type": "code",
   "execution_count": null,
   "id": "860de269",
   "metadata": {},
   "outputs": [],
   "source": []
  }
 ],
 "metadata": {
  "kernelspec": {
   "display_name": "data-science-_venv",
   "language": "python",
   "name": "data-science-_venv"
  },
  "language_info": {
   "codemirror_mode": {
    "name": "ipython",
    "version": 3
   },
   "file_extension": ".py",
   "mimetype": "text/x-python",
   "name": "python",
   "nbconvert_exporter": "python",
   "pygments_lexer": "ipython3",
   "version": "3.8.10"
  }
 },
 "nbformat": 4,
 "nbformat_minor": 5
}
